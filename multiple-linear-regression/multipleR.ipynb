{
 "cells": [
  {
   "cell_type": "code",
   "execution_count": 18,
   "metadata": {},
   "outputs": [],
   "source": [
    "import pandas as pd\n",
    "import matplotlib.pyplot as plt\n",
    "import numpy as np"
   ]
  },
  {
   "cell_type": "code",
   "execution_count": 19,
   "metadata": {},
   "outputs": [
    {
     "data": {
      "text/html": [
       "<div>\n",
       "<style scoped>\n",
       "    .dataframe tbody tr th:only-of-type {\n",
       "        vertical-align: middle;\n",
       "    }\n",
       "\n",
       "    .dataframe tbody tr th {\n",
       "        vertical-align: top;\n",
       "    }\n",
       "\n",
       "    .dataframe thead th {\n",
       "        text-align: right;\n",
       "    }\n",
       "</style>\n",
       "<table border=\"1\" class=\"dataframe\">\n",
       "  <thead>\n",
       "    <tr style=\"text-align: right;\">\n",
       "      <th></th>\n",
       "      <th>Temperature (C)</th>\n",
       "      <th>Apparent Temperature (C)</th>\n",
       "      <th>Wind Speed (km/h)</th>\n",
       "      <th>Wind Bearing (degrees)</th>\n",
       "      <th>Visibility (km)</th>\n",
       "      <th>Cloud Cover</th>\n",
       "      <th>Pressure (millibars)</th>\n",
       "      <th>Humidity</th>\n",
       "    </tr>\n",
       "  </thead>\n",
       "  <tbody>\n",
       "    <tr>\n",
       "      <th>0</th>\n",
       "      <td>9.472222</td>\n",
       "      <td>7.388889</td>\n",
       "      <td>14.1197</td>\n",
       "      <td>251</td>\n",
       "      <td>15.8263</td>\n",
       "      <td>0</td>\n",
       "      <td>1015.13</td>\n",
       "      <td>0.89</td>\n",
       "    </tr>\n",
       "    <tr>\n",
       "      <th>1</th>\n",
       "      <td>9.355556</td>\n",
       "      <td>7.227778</td>\n",
       "      <td>14.2646</td>\n",
       "      <td>259</td>\n",
       "      <td>15.8263</td>\n",
       "      <td>0</td>\n",
       "      <td>1015.63</td>\n",
       "      <td>0.86</td>\n",
       "    </tr>\n",
       "    <tr>\n",
       "      <th>2</th>\n",
       "      <td>9.377778</td>\n",
       "      <td>9.377778</td>\n",
       "      <td>3.9284</td>\n",
       "      <td>204</td>\n",
       "      <td>14.9569</td>\n",
       "      <td>0</td>\n",
       "      <td>1015.94</td>\n",
       "      <td>0.89</td>\n",
       "    </tr>\n",
       "    <tr>\n",
       "      <th>3</th>\n",
       "      <td>8.288889</td>\n",
       "      <td>5.944444</td>\n",
       "      <td>14.1036</td>\n",
       "      <td>269</td>\n",
       "      <td>15.8263</td>\n",
       "      <td>0</td>\n",
       "      <td>1016.41</td>\n",
       "      <td>0.83</td>\n",
       "    </tr>\n",
       "    <tr>\n",
       "      <th>4</th>\n",
       "      <td>8.755556</td>\n",
       "      <td>6.977778</td>\n",
       "      <td>11.0446</td>\n",
       "      <td>259</td>\n",
       "      <td>15.8263</td>\n",
       "      <td>0</td>\n",
       "      <td>1016.51</td>\n",
       "      <td>0.83</td>\n",
       "    </tr>\n",
       "    <tr>\n",
       "      <th>...</th>\n",
       "      <td>...</td>\n",
       "      <td>...</td>\n",
       "      <td>...</td>\n",
       "      <td>...</td>\n",
       "      <td>...</td>\n",
       "      <td>...</td>\n",
       "      <td>...</td>\n",
       "      <td>...</td>\n",
       "    </tr>\n",
       "    <tr>\n",
       "      <th>1995</th>\n",
       "      <td>-1.627778</td>\n",
       "      <td>-1.627778</td>\n",
       "      <td>3.2200</td>\n",
       "      <td>110</td>\n",
       "      <td>0.3220</td>\n",
       "      <td>0</td>\n",
       "      <td>1027.37</td>\n",
       "      <td>0.96</td>\n",
       "    </tr>\n",
       "    <tr>\n",
       "      <th>1996</th>\n",
       "      <td>-2.155556</td>\n",
       "      <td>-2.155556</td>\n",
       "      <td>3.5581</td>\n",
       "      <td>69</td>\n",
       "      <td>0.1610</td>\n",
       "      <td>0</td>\n",
       "      <td>1027.11</td>\n",
       "      <td>1.00</td>\n",
       "    </tr>\n",
       "    <tr>\n",
       "      <th>1997</th>\n",
       "      <td>-2.127778</td>\n",
       "      <td>-2.127778</td>\n",
       "      <td>1.5456</td>\n",
       "      <td>155</td>\n",
       "      <td>0.1610</td>\n",
       "      <td>0</td>\n",
       "      <td>1026.89</td>\n",
       "      <td>0.96</td>\n",
       "    </tr>\n",
       "    <tr>\n",
       "      <th>1998</th>\n",
       "      <td>-2.105556</td>\n",
       "      <td>-2.105556</td>\n",
       "      <td>4.6529</td>\n",
       "      <td>88</td>\n",
       "      <td>0.1932</td>\n",
       "      <td>0</td>\n",
       "      <td>1026.85</td>\n",
       "      <td>1.00</td>\n",
       "    </tr>\n",
       "    <tr>\n",
       "      <th>1999</th>\n",
       "      <td>-2.094444</td>\n",
       "      <td>-2.094444</td>\n",
       "      <td>3.9928</td>\n",
       "      <td>98</td>\n",
       "      <td>0.0483</td>\n",
       "      <td>0</td>\n",
       "      <td>1026.53</td>\n",
       "      <td>1.00</td>\n",
       "    </tr>\n",
       "  </tbody>\n",
       "</table>\n",
       "<p>2000 rows × 8 columns</p>\n",
       "</div>"
      ],
      "text/plain": [
       "      Temperature (C)  Apparent Temperature (C)  Wind Speed (km/h)  \\\n",
       "0            9.472222                  7.388889            14.1197   \n",
       "1            9.355556                  7.227778            14.2646   \n",
       "2            9.377778                  9.377778             3.9284   \n",
       "3            8.288889                  5.944444            14.1036   \n",
       "4            8.755556                  6.977778            11.0446   \n",
       "...               ...                       ...                ...   \n",
       "1995        -1.627778                 -1.627778             3.2200   \n",
       "1996        -2.155556                 -2.155556             3.5581   \n",
       "1997        -2.127778                 -2.127778             1.5456   \n",
       "1998        -2.105556                 -2.105556             4.6529   \n",
       "1999        -2.094444                 -2.094444             3.9928   \n",
       "\n",
       "      Wind Bearing (degrees)  Visibility (km)  Cloud Cover  \\\n",
       "0                        251          15.8263            0   \n",
       "1                        259          15.8263            0   \n",
       "2                        204          14.9569            0   \n",
       "3                        269          15.8263            0   \n",
       "4                        259          15.8263            0   \n",
       "...                      ...              ...          ...   \n",
       "1995                     110           0.3220            0   \n",
       "1996                      69           0.1610            0   \n",
       "1997                     155           0.1610            0   \n",
       "1998                      88           0.1932            0   \n",
       "1999                      98           0.0483            0   \n",
       "\n",
       "      Pressure (millibars)  Humidity  \n",
       "0                  1015.13      0.89  \n",
       "1                  1015.63      0.86  \n",
       "2                  1015.94      0.89  \n",
       "3                  1016.41      0.83  \n",
       "4                  1016.51      0.83  \n",
       "...                    ...       ...  \n",
       "1995               1027.37      0.96  \n",
       "1996               1027.11      1.00  \n",
       "1997               1026.89      0.96  \n",
       "1998               1026.85      1.00  \n",
       "1999               1026.53      1.00  \n",
       "\n",
       "[2000 rows x 8 columns]"
      ]
     },
     "execution_count": 19,
     "metadata": {},
     "output_type": "execute_result"
    }
   ],
   "source": [
    "weather_data_m = pd.read_csv('/home/ivanm/Desktop/statistics/multiple-linear-regression/data/weatherHistory.csv', nrows=2000)\n",
    "weather_data_m"
   ]
  },
  {
   "cell_type": "code",
   "execution_count": 28,
   "metadata": {},
   "outputs": [
    {
     "name": "stdout",
     "output_type": "stream",
     "text": [
      "\n",
      "\n"
     ]
    },
    {
     "data": {
      "text/plain": [
       "Text(0.5, 1.0, 'Pressure (millibars)')"
      ]
     },
     "execution_count": 28,
     "metadata": {},
     "output_type": "execute_result"
    },
    {
     "data": {
      "image/png": "[encoded data removed]",
      "text/plain": [
       "<Figure size 432x288 with 3 Axes>"
      ]
     },
     "metadata": {
      "needs_background": "light"
     },
     "output_type": "display_data"
    }
   ],
   "source": [
    "weather_features = ['Temperature (C)','Wind Speed (km/h)', 'Pressure (millibars)']\n",
    "\n",
    "X = weather_data_m[weather_features]\n",
    "y = weather_data_m.Humidity\n",
    "\n",
    "plt.subplot(2,2,1)\n",
    "plt.scatter(X['Temperature (C)'], y)\n",
    "plt.title('Temperature (C)')\n",
    "plt.subplot(2,2,2)\n",
    "plt.scatter(X['Wind Speed (km/h)'], y)\n",
    "plt.title('Wind Speed (km/h)')\n",
    "plt.subplot(2,2,3)\n",
    "plt.scatter(X['Pressure (millibars)'], y)\n",
    "plt.title('Pressure (millibars)')"
   ]
  },
  {
   "cell_type": "code",
   "execution_count": 21,
   "metadata": {},
   "outputs": [
    {
     "name": "stderr",
     "output_type": "stream",
     "text": [
      "/tmp/ipykernel_11756/2928264213.py:1: FutureWarning: In a future version of pandas all arguments of DataFrame.drop except for the argument 'labels' will be keyword-only\n",
      "  X = X.drop('Pressure (millibars)', 1)\n"
     ]
    },
    {
     "data": {
      "text/html": [
       "<div>\n",
       "<style scoped>\n",
       "    .dataframe tbody tr th:only-of-type {\n",
       "        vertical-align: middle;\n",
       "    }\n",
       "\n",
       "    .dataframe tbody tr th {\n",
       "        vertical-align: top;\n",
       "    }\n",
       "\n",
       "    .dataframe thead th {\n",
       "        text-align: right;\n",
       "    }\n",
       "</style>\n",
       "<table border=\"1\" class=\"dataframe\">\n",
       "  <thead>\n",
       "    <tr style=\"text-align: right;\">\n",
       "      <th></th>\n",
       "      <th>Temperature (C)</th>\n",
       "      <th>Wind Speed (km/h)</th>\n",
       "    </tr>\n",
       "  </thead>\n",
       "  <tbody>\n",
       "    <tr>\n",
       "      <th>0</th>\n",
       "      <td>9.472222</td>\n",
       "      <td>14.1197</td>\n",
       "    </tr>\n",
       "    <tr>\n",
       "      <th>1</th>\n",
       "      <td>9.355556</td>\n",
       "      <td>14.2646</td>\n",
       "    </tr>\n",
       "    <tr>\n",
       "      <th>2</th>\n",
       "      <td>9.377778</td>\n",
       "      <td>3.9284</td>\n",
       "    </tr>\n",
       "    <tr>\n",
       "      <th>3</th>\n",
       "      <td>8.288889</td>\n",
       "      <td>14.1036</td>\n",
       "    </tr>\n",
       "    <tr>\n",
       "      <th>4</th>\n",
       "      <td>8.755556</td>\n",
       "      <td>11.0446</td>\n",
       "    </tr>\n",
       "    <tr>\n",
       "      <th>...</th>\n",
       "      <td>...</td>\n",
       "      <td>...</td>\n",
       "    </tr>\n",
       "    <tr>\n",
       "      <th>1995</th>\n",
       "      <td>-1.627778</td>\n",
       "      <td>3.2200</td>\n",
       "    </tr>\n",
       "    <tr>\n",
       "      <th>1996</th>\n",
       "      <td>-2.155556</td>\n",
       "      <td>3.5581</td>\n",
       "    </tr>\n",
       "    <tr>\n",
       "      <th>1997</th>\n",
       "      <td>-2.127778</td>\n",
       "      <td>1.5456</td>\n",
       "    </tr>\n",
       "    <tr>\n",
       "      <th>1998</th>\n",
       "      <td>-2.105556</td>\n",
       "      <td>4.6529</td>\n",
       "    </tr>\n",
       "    <tr>\n",
       "      <th>1999</th>\n",
       "      <td>-2.094444</td>\n",
       "      <td>3.9928</td>\n",
       "    </tr>\n",
       "  </tbody>\n",
       "</table>\n",
       "<p>2000 rows × 2 columns</p>\n",
       "</div>"
      ],
      "text/plain": [
       "      Temperature (C)  Wind Speed (km/h)\n",
       "0            9.472222            14.1197\n",
       "1            9.355556            14.2646\n",
       "2            9.377778             3.9284\n",
       "3            8.288889            14.1036\n",
       "4            8.755556            11.0446\n",
       "...               ...                ...\n",
       "1995        -1.627778             3.2200\n",
       "1996        -2.155556             3.5581\n",
       "1997        -2.127778             1.5456\n",
       "1998        -2.105556             4.6529\n",
       "1999        -2.094444             3.9928\n",
       "\n",
       "[2000 rows x 2 columns]"
      ]
     },
     "execution_count": 21,
     "metadata": {},
     "output_type": "execute_result"
    }
   ],
   "source": [
    "X = X.drop('Pressure (millibars)', 1)\n",
    "X"
   ]
  },
  {
   "cell_type": "code",
   "execution_count": 22,
   "metadata": {},
   "outputs": [
    {
     "data": {
      "text/plain": [
       "Text(0.5, 0, 'Humidity')"
      ]
     },
     "execution_count": 22,
     "metadata": {},
     "output_type": "execute_result"
    },
    {
     "data": {
      "image/png": "[encoded data removed]",
      "text/plain": [
       "<Figure size 432x288 with 1 Axes>"
      ]
     },
     "metadata": {
      "needs_background": "light"
     },
     "output_type": "display_data"
    }
   ],
   "source": [
    "from mpl_toolkits.mplot3d import Axes3D\n",
    "\n",
    "fig = plt.figure()\n",
    "ax = fig.add_subplot(111, projection='3d')\n",
    "\n",
    "x1 = X['Temperature (C)']\n",
    "x2 = X['Wind Speed (km/h)']\n",
    "\n",
    "ax.scatter(x1, x2, y, c='r', marker='o')\n",
    "\n",
    "ax.set_xlabel('Temperature (C)')\n",
    "ax.set_ylabel('Wind Speed (km/h)')\n",
    "ax.set_zlabel('Humidity')"
   ]
  },
  {
   "cell_type": "code",
   "execution_count": 23,
   "metadata": {},
   "outputs": [
    {
     "data": {
      "text/plain": [
       "LinearRegression()"
      ]
     },
     "execution_count": 23,
     "metadata": {},
     "output_type": "execute_result"
    }
   ],
   "source": [
    "from sklearn.linear_model import LinearRegression\n",
    "\n",
    "mlr_model = LinearRegression()\n",
    "mlr_model.fit(X, y)"
   ]
  },
  {
   "cell_type": "code",
   "execution_count": 24,
   "metadata": {},
   "outputs": [
    {
     "data": {
      "text/plain": [
       "(1.0103013781630759, -0.01252155268624214, -0.006890516303253675)"
      ]
     },
     "execution_count": 24,
     "metadata": {},
     "output_type": "execute_result"
    }
   ],
   "source": [
    "theta0 = mlr_model.intercept_\n",
    "theta1, theta2 = mlr_model.coef_\n",
    "theta0, theta1, theta2"
   ]
  },
  {
   "cell_type": "code",
   "execution_count": 25,
   "metadata": {},
   "outputs": [
    {
     "data": {
      "text/plain": [
       "array([0.67777725])"
      ]
     },
     "execution_count": 25,
     "metadata": {},
     "output_type": "execute_result"
    }
   ],
   "source": [
    "y_pred = mlr_model.predict([[15,21]])\n",
    "y_pred"
   ]
  }
 ],
 "metadata": {
  "interpreter": {
   "hash": "00333541aaf1d541c112cf0afdf4b97e9fcaff6b0717b175fcb7aecd297ab4c7"
  },
  "kernelspec": {
   "display_name": "Python 3.9.7 ('base')",
   "language": "python",
   "name": "python3"
  },
  "language_info": {
   "codemirror_mode": {
    "name": "ipython",
    "version": 3
   },
   "file_extension": ".py",
   "mimetype": "text/x-python",
   "name": "python",
   "nbconvert_exporter": "python",
   "pygments_lexer": "ipython3",
   "version": "3.9.7"
  },
  "orig_nbformat": 4
 },
 "nbformat": 4,
 "nbformat_minor": 2
}
