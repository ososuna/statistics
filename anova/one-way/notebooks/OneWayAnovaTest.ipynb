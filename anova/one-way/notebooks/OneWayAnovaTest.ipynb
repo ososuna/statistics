{
 "cells": [
  {
   "cell_type": "markdown",
   "metadata": {},
   "source": [
    "# One-way anova test"
   ]
  },
  {
   "cell_type": "code",
   "execution_count": 120,
   "metadata": {},
   "outputs": [],
   "source": [
    "import math\n",
    "import matplotlib.pyplot as plt\n",
    "import numpy as np\n",
    "from scipy import stats"
   ]
  },
  {
   "cell_type": "markdown",
   "metadata": {},
   "source": [
    "### 1. Define the null and alternate hypotheses"
   ]
  },
  {
   "cell_type": "markdown",
   "metadata": {},
   "source": [
    "H<sub>0</sub>: <em>no diferences</em> between given data  \n",
    "H<sub>1</sub>: <em>diferences</em> between given data"
   ]
  },
  {
   "cell_type": "markdown",
   "metadata": {},
   "source": [
    "### 2. Define the level of confidence and significance"
   ]
  },
  {
   "cell_type": "markdown",
   "metadata": {},
   "source": [
    "1 - α = 95%  \n",
    "α = 5%"
   ]
  },
  {
   "cell_type": "markdown",
   "metadata": {},
   "source": [
    "### 3. Select the test statistic"
   ]
  },
  {
   "cell_type": "markdown",
   "metadata": {},
   "source": [
    "<em>anova</em>"
   ]
  },
  {
   "cell_type": "markdown",
   "metadata": {},
   "source": [
    "### 4. Calculate the test statistic"
   ]
  },
  {
   "cell_type": "code",
   "execution_count": 5,
   "metadata": {},
   "outputs": [],
   "source": [
    "data = [\n",
    "  {\n",
    "    'id': 'a',\n",
    "    'data': [5, 2, 7, 6, 9, 2, 1, 8]\n",
    "  },\n",
    "  {\n",
    "    'id': 'b',\n",
    "    'data': [6, 5, 8, 6, 2, 2, 1, 9]\n",
    "  },\n",
    "  {\n",
    "    'id': 'c',\n",
    "    'data': [7, 7, 6, 5, 4, 2, 3, 1]\n",
    "  },\n",
    "  {\n",
    "    'id': 'd',\n",
    "    'data': [9, 6, 7, 1, 5, 9, 4, 6]\n",
    "  },\n",
    "  {\n",
    "    'id': 'e',\n",
    "    'data': [8, 10, 8, 4, 6, 6, 9, 9]\n",
    "  },\n",
    "]"
   ]
  },
  {
   "cell_type": "code",
   "execution_count": 58,
   "metadata": {},
   "outputs": [
    {
     "data": {
      "text/plain": [
       "40"
      ]
     },
     "execution_count": 58,
     "metadata": {},
     "output_type": "execute_result"
    }
   ],
   "source": [
    "n = sum([ len(i['data']) for i in data ])\n",
    "n"
   ]
  },
  {
   "cell_type": "code",
   "execution_count": 67,
   "metadata": {},
   "outputs": [
    {
     "data": {
      "text/plain": [
       "5.525"
      ]
     },
     "execution_count": 67,
     "metadata": {},
     "output_type": "execute_result"
    }
   ],
   "source": [
    "x_tested = sum([ sum(i['data']) for i in data ])/n\n",
    "x_tested"
   ]
  },
  {
   "cell_type": "code",
   "execution_count": 66,
   "metadata": {},
   "outputs": [
    {
     "data": {
      "text/plain": [
       "39"
      ]
     },
     "execution_count": 66,
     "metadata": {},
     "output_type": "execute_result"
    }
   ],
   "source": [
    "lg = n-1\n",
    "lg"
   ]
  },
  {
   "cell_type": "code",
   "execution_count": 106,
   "metadata": {},
   "outputs": [
    {
     "data": {
      "text/plain": [
       "285.975"
      ]
     },
     "execution_count": 106,
     "metadata": {},
     "output_type": "execute_result"
    }
   ],
   "source": [
    "xi_x = []\n",
    "for i in data:\n",
    "  xi_x.append([ (j-x_tested)**2 for j in i['data'] ])\n",
    "  scTotal = sum([ sum(j) for j in xi_x ])\n",
    "scTotal"
   ]
  },
  {
   "cell_type": "code",
   "execution_count": 108,
   "metadata": {},
   "outputs": [],
   "source": [
    "glEntre = len(data)-1\n",
    "avg = []\n",
    "for i in data:\n",
    "  avg.append( sum([ j for j in i['data']])/len(i['data']) )\n",
    "  scEntre = sum([ len(i['data']) * (j - x_tested)**2 for j in avg ])\n",
    "s2e = scEntre/glEntre"
   ]
  },
  {
   "cell_type": "code",
   "execution_count": 113,
   "metadata": {},
   "outputs": [],
   "source": [
    "glIntra=n-len(data)\n",
    "xi_avg = []\n",
    "for i in data:\n",
    "  xi_avg.append([ (j - sum([ j for j in i['data']])/len(i['data']) )**2 for j in i['data'] ])\n",
    "  scIntra = sum([ sum(j) for j in xi_avg ])\n",
    "s2r = scIntra/glIntra"
   ]
  },
  {
   "cell_type": "code",
   "execution_count": 122,
   "metadata": {},
   "outputs": [],
   "source": [
    "f = s2e/s2r\n",
    "gl = [scEntre, scIntra]\n",
    "criticalValue =  stats.f.isf(0.05, scEntre, scIntra)"
   ]
  },
  {
   "cell_type": "markdown",
   "metadata": {},
   "source": [
    "### 5. Acceptance and rejection region"
   ]
  },
  {
   "cell_type": "code",
   "execution_count": 123,
   "metadata": {},
   "outputs": [
    {
     "data": {
      "image/png": "[encoded data removed]",
      "text/plain": [
       "<Figure size 432x288 with 1 Axes>"
      ]
     },
     "metadata": {
      "needs_background": "light"
     },
     "output_type": "display_data"
    }
   ],
   "source": [
    "mu = 0\n",
    "variance = 1\n",
    "sigma = math.sqrt(variance)\n",
    "x = np.linspace(mu - 3*sigma, mu + 3*sigma, 100)\n",
    "plt.axvline(x=f, color=\"blue\")\n",
    "plt.axvline(x=criticalValue, color=\"red\")\n",
    "plt.axvline(x=mu, color=\"green\")\n",
    "plt.legend([\"f\", \"critical value\", \"µ\"])\n",
    "plt.plot(x, stats.norm.pdf(x, mu, sigma))\n",
    "plt.show()"
   ]
  },
  {
   "cell_type": "markdown",
   "metadata": {},
   "source": [
    "### 6. Set decision rule"
   ]
  },
  {
   "cell_type": "markdown",
   "metadata": {},
   "source": [
    "#### H<sub>0</sub> is rejected\n",
    "#### H<sub>1</sub> is accepted"
   ]
  },
  {
   "cell_type": "markdown",
   "metadata": {},
   "source": [
    "### 7. Draw conclusions"
   ]
  },
  {
   "cell_type": "markdown",
   "metadata": {},
   "source": [
    "With a confidence level of 95% it is affirmed that there are differences between the groups"
   ]
  }
 ],
 "metadata": {
  "interpreter": {
   "hash": "d998e9f2d5d1a02bcaee89c1920b4684991490c4c804a88a19c1fbc74ca5ffba"
  },
  "kernelspec": {
   "display_name": "Python 3.9.7 ('statistics')",
   "language": "python",
   "name": "python3"
  },
  "language_info": {
   "codemirror_mode": {
    "name": "ipython",
    "version": 3
   },
   "file_extension": ".py",
   "mimetype": "text/x-python",
   "name": "python",
   "nbconvert_exporter": "python",
   "pygments_lexer": "ipython3",
   "version": "3.9.7"
  },
  "orig_nbformat": 4
 },
 "nbformat": 4,
 "nbformat_minor": 2
}
