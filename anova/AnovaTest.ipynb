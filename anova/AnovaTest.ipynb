{
 "cells": [
  {
   "cell_type": "markdown",
   "metadata": {},
   "source": [
    "# One-way ANOVA test"
   ]
  },
  {
   "cell_type": "markdown",
   "metadata": {},
   "source": [
    "Supóngase que se un estudio quiere comprobar si existe una diferencia significativa entre el % de bateos exitosos de los jugadores de béisbol dependiendo de la posición en la que juegan. En el caso de que exista, se quiere saber qué posiciones difieren del resto."
   ]
  },
  {
   "cell_type": "markdown",
   "metadata": {},
   "source": [
    "## Libraries"
   ]
  },
  {
   "cell_type": "code",
   "execution_count": 1,
   "metadata": {},
   "outputs": [],
   "source": [
    "import pandas as pd\n",
    "import numpy as np\n",
    "import matplotlib.pyplot as plt\n",
    "import seaborn as sns\n",
    "import pingouin as pg\n",
    "from statsmodels.graphics.factorplots import interaction_plot"
   ]
  },
  {
   "cell_type": "markdown",
   "metadata": {},
   "source": [
    "## Loading data"
   ]
  },
  {
   "cell_type": "markdown",
   "metadata": {},
   "source": [
    "The following table contains a random sample of the league players."
   ]
  },
  {
   "cell_type": "code",
   "execution_count": 4,
   "metadata": {},
   "outputs": [],
   "source": [
    "position = [\"OF\", \"IF\", \"IF\", \"OF\", \"IF\", \"IF\", \"OF\", \"OF\", \"IF\", \"IF\", \"OF\",\n",
    "            \"OF\", \"IF\", \"OF\", \"IF\", \"IF\", \"IF\", \"OF\", \"IF\", \"OF\", \"IF\", \"OF\",\n",
    "            \"IF\", \"OF\", \"IF\", \"DH\", \"IF\", \"IF\", \"IF\", \"OF\", \"IF\", \"IF\", \"IF\",\n",
    "            \"IF\", \"OF\", \"IF\", \"OF\", \"IF\", \"IF\", \"IF\", \"IF\", \"OF\", \"OF\", \"IF\",\n",
    "            \"OF\", \"OF\", \"IF\", \"IF\", \"OF\", \"OF\", \"IF\", \"OF\", \"OF\", \"OF\", \"IF\",\n",
    "            \"DH\", \"OF\", \"OF\", \"OF\", \"IF\", \"IF\", \"IF\", \"IF\", \"OF\", \"IF\", \"IF\",\n",
    "            \"OF\", \"IF\", \"IF\", \"IF\", \"OF\", \"IF\", \"IF\", \"OF\", \"IF\", \"IF\", \"IF\",\n",
    "            \"IF\", \"IF\", \"IF\", \"OF\", \"DH\", \"OF\", \"OF\", \"IF\", \"IF\", \"IF\", \"OF\",\n",
    "            \"IF\", \"OF\", \"IF\", \"IF\", \"IF\", \"IF\", \"OF\", \"OF\", \"OF\", \"DH\", \"OF\",\n",
    "            \"IF\", \"IF\", \"OF\", \"OF\", \"C\", \"IF\", \"OF\", \"OF\", \"IF\", \"OF\", \"IF\",\n",
    "            \"IF\", \"IF\", \"OF\", \"C\", \"OF\", \"IF\", \"C\", \"OF\", \"IF\", \"DH\", \"C\", \"OF\",\n",
    "            \"OF\", \"IF\", \"C\", \"IF\", \"IF\", \"IF\", \"IF\", \"IF\", \"IF\", \"OF\", \"C\", \"IF\",\n",
    "            \"OF\", \"OF\", \"IF\", \"OF\", \"IF\", \"OF\", \"DH\", \"C\", \"IF\", \"OF\", \"IF\",\n",
    "            \"IF\", \"OF\", \"IF\", \"OF\", \"IF\", \"C\", \"IF\", \"IF\", \"OF\", \"IF\", \"IF\",\n",
    "            \"IF\", \"OF\", \"OF\", \"OF\", \"IF\", \"IF\", \"C\", \"IF\", \"C\", \"C\", \"OF\", \"OF\",\n",
    "            \"OF\", \"IF\", \"OF\", \"IF\", \"C\", \"DH\", \"DH\", \"C\", \"OF\", \"IF\", \"OF\", \"IF\",\n",
    "            \"IF\", \"IF\", \"C\", \"IF\", \"OF\", \"DH\", \"IF\", \"IF\", \"IF\", \"OF\", \"OF\", \"C\",\n",
    "            \"OF\", \"OF\", \"IF\", \"IF\", \"OF\", \"OF\", \"OF\", \"OF\", \"OF\", \"OF\", \"IF\",\n",
    "            \"IF\", \"DH\", \"OF\", \"IF\", \"IF\", \"OF\", \"IF\", \"IF\", \"IF\", \"IF\", \"OF\",\n",
    "            \"IF\", \"C\", \"IF\", \"IF\", \"C\", \"IF\", \"OF\", \"IF\", \"DH\", \"C\", \"OF\", \"C\",\n",
    "            \"IF\", \"IF\", \"OF\", \"C\", \"IF\", \"IF\", \"IF\", \"C\", \"C\", \"C\", \"OF\", \"OF\",\n",
    "            \"IF\", \"IF\", \"IF\", \"IF\", \"OF\", \"OF\", \"C\", \"IF\", \"IF\", \"OF\", \"C\", \"OF\",\n",
    "            \"OF\", \"OF\", \"OF\", \"OF\", \"OF\", \"OF\", \"OF\", \"OF\", \"OF\", \"OF\", \"C\",\n",
    "            \"IF\", \"DH\", \"IF\", \"C\", \"DH\", \"C\", \"IF\", \"C\", \"OF\", \"C\", \"C\", \"IF\",\n",
    "            \"OF\", \"IF\", \"IF\", \"IF\", \"IF\", \"IF\", \"IF\", \"IF\", \"IF\", \"OF\", \"OF\",\n",
    "            \"OF\", \"IF\", \"OF\", \"OF\", \"IF\", \"IF\", \"IF\", \"OF\", \"C\", \"IF\", \"IF\",\n",
    "            \"IF\", \"IF\", \"OF\", \"OF\", \"IF\", \"OF\", \"IF\", \"OF\", \"OF\", \"OF\", \"IF\",\n",
    "            \"OF\", \"OF\", \"IF\", \"OF\", \"IF\", \"C\", \"IF\", \"IF\", \"C\", \"DH\", \"OF\", \"IF\",\n",
    "            \"C\", \"C\", \"IF\", \"C\", \"IF\", \"OF\", \"C\", \"C\", \"OF\"]\n",
    "\n",
    "batting = [0.359, 0.34, 0.33, 0.341, 0.366, 0.333, 0.37, 0.331, 0.381, 0.332,\n",
    "          0.365, 0.345, 0.313, 0.325, 0.327, 0.337, 0.336, 0.291, 0.34, 0.31,\n",
    "          0.365, 0.356, 0.35, 0.39, 0.388, 0.345, 0.27, 0.306, 0.393, 0.331,\n",
    "          0.365, 0.369, 0.342, 0.329, 0.376, 0.414, 0.327, 0.354, 0.321, 0.37,\n",
    "          0.313, 0.341, 0.325, 0.312, 0.346, 0.34, 0.401, 0.372, 0.352, 0.354,\n",
    "          0.341, 0.365, 0.333, 0.378, 0.385, 0.287, 0.303, 0.334, 0.359, 0.352,\n",
    "          0.321, 0.323, 0.302, 0.349, 0.32, 0.356, 0.34, 0.393, 0.288, 0.339,\n",
    "          0.388, 0.283, 0.311, 0.401, 0.353, 0.42, 0.393, 0.347, 0.424, 0.378,\n",
    "          0.346, 0.355, 0.322, 0.341, 0.306, 0.329, 0.271, 0.32, 0.308, 0.322,\n",
    "          0.388, 0.351, 0.341, 0.31, 0.393, 0.411, 0.323, 0.37, 0.364, 0.321,\n",
    "          0.351, 0.329, 0.327, 0.402, 0.32, 0.353, 0.319, 0.319, 0.343, 0.288,\n",
    "          0.32, 0.338, 0.322, 0.303, 0.356, 0.303, 0.351, 0.325, 0.325, 0.361,\n",
    "          0.375, 0.341, 0.383, 0.328, 0.3, 0.277, 0.359, 0.358, 0.381, 0.324,\n",
    "          0.293, 0.324, 0.329, 0.294, 0.32, 0.361, 0.347, 0.317, 0.316, 0.342,\n",
    "          0.368, 0.319, 0.317, 0.302, 0.321, 0.336, 0.347, 0.279, 0.309, 0.358,\n",
    "          0.318, 0.342, 0.299, 0.332, 0.349, 0.387, 0.335, 0.358, 0.312, 0.307,\n",
    "          0.28, 0.344, 0.314, 0.24, 0.331, 0.357, 0.346, 0.351, 0.293, 0.308,\n",
    "          0.374, 0.362, 0.294, 0.314, 0.374, 0.315, 0.324, 0.382, 0.353, 0.305,\n",
    "          0.338, 0.366, 0.357, 0.326, 0.332, 0.323, 0.306, 0.31, 0.31, 0.333,\n",
    "          0.34, 0.4, 0.389, 0.308, 0.411, 0.278, 0.326, 0.335, 0.316, 0.371,\n",
    "          0.314, 0.384, 0.379, 0.32, 0.395, 0.347, 0.307, 0.326, 0.316, 0.341,\n",
    "          0.308, 0.327, 0.337, 0.36, 0.32, 0.372, 0.306, 0.305, 0.347, 0.281,\n",
    "          0.281, 0.296, 0.306, 0.343, 0.378, 0.393, 0.337, 0.327, 0.336, 0.32,\n",
    "          0.381, 0.306, 0.358, 0.311, 0.284, 0.364, 0.315, 0.342, 0.367, 0.307,\n",
    "          0.351, 0.372, 0.304, 0.296, 0.332, 0.312, 0.437, 0.295, 0.316, 0.298,\n",
    "          0.302, 0.342, 0.364, 0.304, 0.295, 0.305, 0.359, 0.335, 0.338, 0.341,\n",
    "          0.3, 0.378, 0.412, 0.273, 0.308, 0.309, 0.263, 0.291, 0.359, 0.352,\n",
    "          0.262, 0.274, 0.334, 0.343, 0.267, 0.321, 0.3, 0.327, 0.313, 0.316,\n",
    "          0.337, 0.268, 0.342, 0.292, 0.39, 0.332, 0.315, 0.298, 0.298, 0.331,\n",
    "          0.361, 0.272, 0.287, 0.34, 0.317, 0.327, 0.354, 0.317, 0.311, 0.174,\n",
    "          0.302, 0.302, 0.291, 0.29, 0.268, 0.352, 0.341, 0.265, 0.307, 0.36,\n",
    "          0.305, 0.254, 0.279, 0.321, 0.305, 0.35, 0.308, 0.326, 0.219, 0.23,\n",
    "          0.322, 0.405, 0.321, 0.291, 0.312, 0.357, 0.324]"
   ]
  },
  {
   "cell_type": "code",
   "execution_count": 6,
   "metadata": {},
   "outputs": [
    {
     "data": {
      "text/html": [
       "<div>\n",
       "<style scoped>\n",
       "    .dataframe tbody tr th:only-of-type {\n",
       "        vertical-align: middle;\n",
       "    }\n",
       "\n",
       "    .dataframe tbody tr th {\n",
       "        vertical-align: top;\n",
       "    }\n",
       "\n",
       "    .dataframe thead th {\n",
       "        text-align: right;\n",
       "    }\n",
       "</style>\n",
       "<table border=\"1\" class=\"dataframe\">\n",
       "  <thead>\n",
       "    <tr style=\"text-align: right;\">\n",
       "      <th></th>\n",
       "      <th>position</th>\n",
       "      <th>batting</th>\n",
       "    </tr>\n",
       "  </thead>\n",
       "  <tbody>\n",
       "    <tr>\n",
       "      <th>0</th>\n",
       "      <td>OF</td>\n",
       "      <td>0.359</td>\n",
       "    </tr>\n",
       "    <tr>\n",
       "      <th>1</th>\n",
       "      <td>IF</td>\n",
       "      <td>0.340</td>\n",
       "    </tr>\n",
       "    <tr>\n",
       "      <th>2</th>\n",
       "      <td>IF</td>\n",
       "      <td>0.330</td>\n",
       "    </tr>\n",
       "    <tr>\n",
       "      <th>3</th>\n",
       "      <td>OF</td>\n",
       "      <td>0.341</td>\n",
       "    </tr>\n",
       "    <tr>\n",
       "      <th>4</th>\n",
       "      <td>IF</td>\n",
       "      <td>0.366</td>\n",
       "    </tr>\n",
       "    <tr>\n",
       "      <th>5</th>\n",
       "      <td>IF</td>\n",
       "      <td>0.333</td>\n",
       "    </tr>\n",
       "    <tr>\n",
       "      <th>6</th>\n",
       "      <td>OF</td>\n",
       "      <td>0.370</td>\n",
       "    </tr>\n",
       "    <tr>\n",
       "      <th>7</th>\n",
       "      <td>OF</td>\n",
       "      <td>0.331</td>\n",
       "    </tr>\n",
       "    <tr>\n",
       "      <th>8</th>\n",
       "      <td>IF</td>\n",
       "      <td>0.381</td>\n",
       "    </tr>\n",
       "    <tr>\n",
       "      <th>9</th>\n",
       "      <td>IF</td>\n",
       "      <td>0.332</td>\n",
       "    </tr>\n",
       "  </tbody>\n",
       "</table>\n",
       "</div>"
      ],
      "text/plain": [
       "  position  batting\n",
       "0       OF    0.359\n",
       "1       IF    0.340\n",
       "2       IF    0.330\n",
       "3       OF    0.341\n",
       "4       IF    0.366\n",
       "5       IF    0.333\n",
       "6       OF    0.370\n",
       "7       OF    0.331\n",
       "8       IF    0.381\n",
       "9       IF    0.332"
      ]
     },
     "execution_count": 6,
     "metadata": {},
     "output_type": "execute_result"
    }
   ],
   "source": [
    "data = pd.DataFrame({'position': position, 'batting': batting})\n",
    "data.head(10)"
   ]
  },
  {
   "cell_type": "markdown",
   "metadata": {},
   "source": [
    "## Number of groups, obervations per group, and observation distribution"
   ]
  },
  {
   "cell_type": "markdown",
   "metadata": {},
   "source": [
    "Identify the number of groups and observations by group to determine if is an equilibrated model. Also calculate the mean and standard deviation for each group."
   ]
  },
  {
   "cell_type": "markdown",
   "metadata": {},
   "source": [
    "### Observations by group"
   ]
  },
  {
   "cell_type": "code",
   "execution_count": 8,
   "metadata": {},
   "outputs": [
    {
     "data": {
      "text/plain": [
       "position\n",
       "C      39\n",
       "DH     14\n",
       "IF    154\n",
       "OF    120\n",
       "dtype: int64"
      ]
     },
     "execution_count": 8,
     "metadata": {},
     "output_type": "execute_result"
    }
   ],
   "source": [
    "data.groupby('position').size()"
   ]
  },
  {
   "cell_type": "markdown",
   "metadata": {},
   "source": [
    "### Mean and standard deviation by group"
   ]
  },
  {
   "cell_type": "code",
   "execution_count": 9,
   "metadata": {},
   "outputs": [
    {
     "data": {
      "text/html": [
       "<div>\n",
       "<style scoped>\n",
       "    .dataframe tbody tr th:only-of-type {\n",
       "        vertical-align: middle;\n",
       "    }\n",
       "\n",
       "    .dataframe tbody tr th {\n",
       "        vertical-align: top;\n",
       "    }\n",
       "\n",
       "    .dataframe thead tr th {\n",
       "        text-align: left;\n",
       "    }\n",
       "\n",
       "    .dataframe thead tr:last-of-type th {\n",
       "        text-align: right;\n",
       "    }\n",
       "</style>\n",
       "<table border=\"1\" class=\"dataframe\">\n",
       "  <thead>\n",
       "    <tr>\n",
       "      <th></th>\n",
       "      <th colspan=\"2\" halign=\"left\">batting</th>\n",
       "    </tr>\n",
       "    <tr>\n",
       "      <th></th>\n",
       "      <th>mean</th>\n",
       "      <th>std</th>\n",
       "    </tr>\n",
       "    <tr>\n",
       "      <th>position</th>\n",
       "      <th></th>\n",
       "      <th></th>\n",
       "    </tr>\n",
       "  </thead>\n",
       "  <tbody>\n",
       "    <tr>\n",
       "      <th>C</th>\n",
       "      <td>0.322615</td>\n",
       "      <td>0.045132</td>\n",
       "    </tr>\n",
       "    <tr>\n",
       "      <th>DH</th>\n",
       "      <td>0.347786</td>\n",
       "      <td>0.036037</td>\n",
       "    </tr>\n",
       "    <tr>\n",
       "      <th>IF</th>\n",
       "      <td>0.331526</td>\n",
       "      <td>0.037095</td>\n",
       "    </tr>\n",
       "    <tr>\n",
       "      <th>OF</th>\n",
       "      <td>0.334250</td>\n",
       "      <td>0.029444</td>\n",
       "    </tr>\n",
       "  </tbody>\n",
       "</table>\n",
       "</div>"
      ],
      "text/plain": [
       "           batting          \n",
       "              mean       std\n",
       "position                    \n",
       "C         0.322615  0.045132\n",
       "DH        0.347786  0.036037\n",
       "IF        0.331526  0.037095\n",
       "OF        0.334250  0.029444"
      ]
     },
     "execution_count": 9,
     "metadata": {},
     "output_type": "execute_result"
    }
   ],
   "source": [
    "data.groupby('position').agg(['mean', 'std'])"
   ]
  },
  {
   "cell_type": "markdown",
   "metadata": {},
   "source": [
    "## Plot analysis"
   ]
  },
  {
   "cell_type": "markdown",
   "metadata": {},
   "source": [
    "Two of the most useful plots before performing ANOVA are the Box-Plot and Violin-Plot graphics."
   ]
  },
  {
   "cell_type": "code",
   "execution_count": 10,
   "metadata": {},
   "outputs": [
    {
     "data": {
      "image/png": "[encoded data removed]",
      "text/plain": [
       "<Figure size 576x288 with 1 Axes>"
      ]
     },
     "metadata": {
      "needs_background": "light"
     },
     "output_type": "display_data"
    }
   ],
   "source": [
    "fig, ax = plt.subplots(1, 1, figsize=(8, 4))\n",
    "sns.boxplot(x=\"position\", y=\"batting\", data=data, ax=ax)\n",
    "sns.swarmplot(x=\"position\", y=\"batting\", data=data, color='black', alpha = 0.5, ax=ax);"
   ]
  },
  {
   "cell_type": "markdown",
   "metadata": {},
   "source": [
    "This type of representation allows preliminary identification of whether there are asymmetries, outliers or differences in variances. In this case, the 4 groups seem to follow a symmetric distribution. At the IF level, some extreme values ​​are detected that will have to be studied in detail in case it is necessary to eliminate them. The size of the boxes is similar for all levels, so there are no indications of lack of homoscedasticity."
   ]
  },
  {
   "cell_type": "markdown",
   "metadata": {},
   "source": [
    "## Verify conditions for ANOVA"
   ]
  },
  {
   "cell_type": "markdown",
   "metadata": {},
   "source": [
    "### Independence"
   ]
  },
  {
   "cell_type": "markdown",
   "metadata": {},
   "source": [
    "The groups (categorical variable) and players within each group are independent of each other since a random sampling of players from the entire league (not just from the same team) has been made."
   ]
  },
  {
   "cell_type": "markdown",
   "metadata": {},
   "source": [
    "### Normal distribution of observations"
   ]
  },
  {
   "cell_type": "markdown",
   "metadata": {},
   "source": [
    "The quantitative variable must be distributed normally in each of the groups. The normality study can be done graphically (qqplot) or with a hypothesis test."
   ]
  },
  {
   "cell_type": "markdown",
   "metadata": {},
   "source": [
    "### QQplot graphics"
   ]
  },
  {
   "cell_type": "code",
   "execution_count": 13,
   "metadata": {},
   "outputs": [
    {
     "data": {
      "image/png": "[encoded data removed]",
      "text/plain": [
       "<Figure size 576x504 with 4 Axes>"
      ]
     },
     "metadata": {
      "needs_background": "light"
     },
     "output_type": "display_data"
    }
   ],
   "source": [
    "fig, axs = plt.subplots(2, 2, figsize=(8, 7))\n",
    "pg.qqplot(data.loc[data.position=='OF', 'batting'], dist='norm', ax=axs[0,0])\n",
    "axs[0,0].set_title('OF')\n",
    "pg.qqplot(data.loc[data.position=='IF', 'batting'], dist='norm', ax=axs[0,1])\n",
    "axs[0,1].set_title('IF')\n",
    "pg.qqplot(data.loc[data.position=='DH', 'batting'], dist='norm', ax=axs[1,0])\n",
    "axs[1,0].set_title('DH')\n",
    "pg.qqplot(data.loc[data.position=='C', 'batting'], dist='norm', ax=axs[1,1])\n",
    "axs[1,1].set_title('C')\n",
    "plt.tight_layout()"
   ]
  },
  {
   "cell_type": "markdown",
   "metadata": {},
   "source": [
    "### Shapiro-Wilk normality test"
   ]
  },
  {
   "cell_type": "code",
   "execution_count": 15,
   "metadata": {},
   "outputs": [
    {
     "data": {
      "text/html": [
       "<div>\n",
       "<style scoped>\n",
       "    .dataframe tbody tr th:only-of-type {\n",
       "        vertical-align: middle;\n",
       "    }\n",
       "\n",
       "    .dataframe tbody tr th {\n",
       "        vertical-align: top;\n",
       "    }\n",
       "\n",
       "    .dataframe thead th {\n",
       "        text-align: right;\n",
       "    }\n",
       "</style>\n",
       "<table border=\"1\" class=\"dataframe\">\n",
       "  <thead>\n",
       "    <tr style=\"text-align: right;\">\n",
       "      <th></th>\n",
       "      <th>W</th>\n",
       "      <th>pval</th>\n",
       "      <th>normal</th>\n",
       "    </tr>\n",
       "  </thead>\n",
       "  <tbody>\n",
       "    <tr>\n",
       "      <th>OF</th>\n",
       "      <td>0.993360</td>\n",
       "      <td>0.842232</td>\n",
       "      <td>True</td>\n",
       "    </tr>\n",
       "    <tr>\n",
       "      <th>IF</th>\n",
       "      <td>0.974848</td>\n",
       "      <td>0.006405</td>\n",
       "      <td>False</td>\n",
       "    </tr>\n",
       "    <tr>\n",
       "      <th>DH</th>\n",
       "      <td>0.972156</td>\n",
       "      <td>0.904092</td>\n",
       "      <td>True</td>\n",
       "    </tr>\n",
       "    <tr>\n",
       "      <th>C</th>\n",
       "      <td>0.980154</td>\n",
       "      <td>0.709167</td>\n",
       "      <td>True</td>\n",
       "    </tr>\n",
       "  </tbody>\n",
       "</table>\n",
       "</div>"
      ],
      "text/plain": [
       "           W      pval  normal\n",
       "OF  0.993360  0.842232    True\n",
       "IF  0.974848  0.006405   False\n",
       "DH  0.972156  0.904092    True\n",
       "C   0.980154  0.709167    True"
      ]
     },
     "execution_count": 15,
     "metadata": {},
     "output_type": "execute_result"
    }
   ],
   "source": [
    "pg.normality(data=data, dv='batting', group='position')"
   ]
  },
  {
   "cell_type": "markdown",
   "metadata": {},
   "source": [
    "Neither the graphical analysis nor the hypothesis tests do not show evidence of a lack of normality."
   ]
  },
  {
   "cell_type": "markdown",
   "metadata": {},
   "source": [
    "### Constant variance between groups (homoscedasticity)"
   ]
  },
  {
   "cell_type": "markdown",
   "metadata": {},
   "source": [
    "Since there is an IF group that is in the limit to accept that it is normally distributed, Levene's test is more appropriate than Bartlett's."
   ]
  },
  {
   "cell_type": "code",
   "execution_count": 17,
   "metadata": {},
   "outputs": [
    {
     "data": {
      "text/html": [
       "<div>\n",
       "<style scoped>\n",
       "    .dataframe tbody tr th:only-of-type {\n",
       "        vertical-align: middle;\n",
       "    }\n",
       "\n",
       "    .dataframe tbody tr th {\n",
       "        vertical-align: top;\n",
       "    }\n",
       "\n",
       "    .dataframe thead th {\n",
       "        text-align: right;\n",
       "    }\n",
       "</style>\n",
       "<table border=\"1\" class=\"dataframe\">\n",
       "  <thead>\n",
       "    <tr style=\"text-align: right;\">\n",
       "      <th></th>\n",
       "      <th>W</th>\n",
       "      <th>pval</th>\n",
       "      <th>equal_var</th>\n",
       "    </tr>\n",
       "  </thead>\n",
       "  <tbody>\n",
       "    <tr>\n",
       "      <th>levene</th>\n",
       "      <td>2.605659</td>\n",
       "      <td>0.051799</td>\n",
       "      <td>True</td>\n",
       "    </tr>\n",
       "  </tbody>\n",
       "</table>\n",
       "</div>"
      ],
      "text/plain": [
       "               W      pval  equal_var\n",
       "levene  2.605659  0.051799       True"
      ]
     },
     "execution_count": 17,
     "metadata": {},
     "output_type": "execute_result"
    }
   ],
   "source": [
    "pg.homoscedasticity(data=data, dv='batting', group='position', method='levene')"
   ]
  },
  {
   "cell_type": "markdown",
   "metadata": {},
   "source": [
    "According to the Levene test, there is no significant evidence indicating lack of homoscedasticity."
   ]
  },
  {
   "cell_type": "markdown",
   "metadata": {},
   "source": [
    "## Test ANOVA"
   ]
  },
  {
   "cell_type": "markdown",
   "metadata": {},
   "source": [
    "One-way ANOVA"
   ]
  },
  {
   "cell_type": "code",
   "execution_count": 19,
   "metadata": {},
   "outputs": [
    {
     "data": {
      "text/html": [
       "<div>\n",
       "<style scoped>\n",
       "    .dataframe tbody tr th:only-of-type {\n",
       "        vertical-align: middle;\n",
       "    }\n",
       "\n",
       "    .dataframe tbody tr th {\n",
       "        vertical-align: top;\n",
       "    }\n",
       "\n",
       "    .dataframe thead th {\n",
       "        text-align: right;\n",
       "    }\n",
       "</style>\n",
       "<table border=\"1\" class=\"dataframe\">\n",
       "  <thead>\n",
       "    <tr style=\"text-align: right;\">\n",
       "      <th></th>\n",
       "      <th>Source</th>\n",
       "      <th>SS</th>\n",
       "      <th>DF</th>\n",
       "      <th>MS</th>\n",
       "      <th>F</th>\n",
       "      <th>p-unc</th>\n",
       "      <th>np2</th>\n",
       "    </tr>\n",
       "  </thead>\n",
       "  <tbody>\n",
       "    <tr>\n",
       "      <th>0</th>\n",
       "      <td>position</td>\n",
       "      <td>0.007557</td>\n",
       "      <td>3</td>\n",
       "      <td>0.002519</td>\n",
       "      <td>1.994349</td>\n",
       "      <td>0.114693</td>\n",
       "      <td>0.018186</td>\n",
       "    </tr>\n",
       "    <tr>\n",
       "      <th>1</th>\n",
       "      <td>Within</td>\n",
       "      <td>0.407984</td>\n",
       "      <td>323</td>\n",
       "      <td>0.001263</td>\n",
       "      <td>NaN</td>\n",
       "      <td>NaN</td>\n",
       "      <td>NaN</td>\n",
       "    </tr>\n",
       "  </tbody>\n",
       "</table>\n",
       "</div>"
      ],
      "text/plain": [
       "     Source        SS   DF        MS         F     p-unc       np2\n",
       "0  position  0.007557    3  0.002519  1.994349  0.114693  0.018186\n",
       "1    Within  0.407984  323  0.001263       NaN       NaN       NaN"
      ]
     },
     "execution_count": 19,
     "metadata": {},
     "output_type": "execute_result"
    }
   ],
   "source": [
    "pg.anova(data=data, dv='batting', between='position', detailed=True)"
   ]
  },
  {
   "cell_type": "markdown",
   "metadata": {},
   "source": [
    "A p-value greater than 0.1 is very weak evidence against the null hypothesis that all groups have the same mean. The value of eta squared ( 𝜂2 ) is 0.018, which can be considered a small effect size."
   ]
  },
  {
   "cell_type": "markdown",
   "metadata": {},
   "source": [
    "## Conclusion"
   ]
  },
  {
   "cell_type": "markdown",
   "metadata": {},
   "source": [
    "In the study carried out, a small effect size has been observed and the ANOVA inference techniques have not found statistical significance to reject that the means are the same between all the groups."
   ]
  }
 ],
 "metadata": {
  "interpreter": {
   "hash": "d998e9f2d5d1a02bcaee89c1920b4684991490c4c804a88a19c1fbc74ca5ffba"
  },
  "kernelspec": {
   "display_name": "Python 3.9.7 ('statistics')",
   "language": "python",
   "name": "python3"
  },
  "language_info": {
   "codemirror_mode": {
    "name": "ipython",
    "version": 3
   },
   "file_extension": ".py",
   "mimetype": "text/x-python",
   "name": "python",
   "nbconvert_exporter": "python",
   "pygments_lexer": "ipython3",
   "version": "3.9.7"
  },
  "orig_nbformat": 4
 },
 "nbformat": 4,
 "nbformat_minor": 2
}
