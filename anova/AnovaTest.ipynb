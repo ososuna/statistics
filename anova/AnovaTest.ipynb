{
 "cells": [
  {
   "cell_type": "markdown",
   "metadata": {},
   "source": [
    "# One-way anova test"
   ]
  },
  {
   "cell_type": "code",
   "execution_count": 2,
   "metadata": {},
   "outputs": [],
   "source": [
    "from scipy import stats"
   ]
  },
  {
   "cell_type": "code",
   "execution_count": 5,
   "metadata": {},
   "outputs": [],
   "source": [
    "data = [\n",
    "  {\n",
    "    'id': 'a',\n",
    "    'data': [5, 2, 7, 6, 9, 2, 1, 8]\n",
    "  },\n",
    "  {\n",
    "    'id': 'b',\n",
    "    'data': [6, 5, 8, 6, 2, 2, 1, 9]\n",
    "  },\n",
    "  {\n",
    "    'id': 'c',\n",
    "    'data': [7, 7, 6, 5, 4, 2, 3, 1]\n",
    "  },\n",
    "  {\n",
    "    'id': 'd',\n",
    "    'data': [9, 6, 7, 1, 5, 9, 4, 6]\n",
    "  },\n",
    "  {\n",
    "    'id': 'e',\n",
    "    'data': [8, 10, 8, 4, 6, 6, 9, 9]\n",
    "  },\n",
    "]"
   ]
  },
  {
   "cell_type": "code",
   "execution_count": 58,
   "metadata": {},
   "outputs": [
    {
     "data": {
      "text/plain": [
       "40"
      ]
     },
     "execution_count": 58,
     "metadata": {},
     "output_type": "execute_result"
    }
   ],
   "source": [
    "n = sum([ len(i['data']) for i in data ])\n",
    "n"
   ]
  },
  {
   "cell_type": "code",
   "execution_count": 67,
   "metadata": {},
   "outputs": [
    {
     "data": {
      "text/plain": [
       "5.525"
      ]
     },
     "execution_count": 67,
     "metadata": {},
     "output_type": "execute_result"
    }
   ],
   "source": [
    "x_tested = sum([ sum(i['data']) for i in data ])/n\n",
    "x_tested"
   ]
  },
  {
   "cell_type": "code",
   "execution_count": 66,
   "metadata": {},
   "outputs": [
    {
     "data": {
      "text/plain": [
       "39"
      ]
     },
     "execution_count": 66,
     "metadata": {},
     "output_type": "execute_result"
    }
   ],
   "source": [
    "lg = n-1\n",
    "lg"
   ]
  },
  {
   "cell_type": "code",
   "execution_count": 106,
   "metadata": {},
   "outputs": [
    {
     "data": {
      "text/plain": [
       "285.975"
      ]
     },
     "execution_count": 106,
     "metadata": {},
     "output_type": "execute_result"
    }
   ],
   "source": [
    "xi_x = []\n",
    "for i in data:\n",
    "  xi_x.append([ (j-x_tested)**2 for j in i['data'] ])\n",
    "  scTotal = sum([ sum(j) for j in xi_x ])\n",
    "scTotal"
   ]
  },
  {
   "cell_type": "code",
   "execution_count": 108,
   "metadata": {},
   "outputs": [],
   "source": [
    "glEntre = len(data)-1\n",
    "avg = []\n",
    "for i in data:\n",
    "  avg.append( sum([ j for j in i['data']])/len(i['data']) )\n",
    "  scEntre = sum([ len(i['data']) * (j - x_tested)**2 for j in avg ])\n",
    "s2e = scEntre/glEntre"
   ]
  },
  {
   "cell_type": "code",
   "execution_count": 113,
   "metadata": {},
   "outputs": [],
   "source": [
    "glIntra=n-len(data)\n",
    "xi_avg = []\n",
    "for i in data:\n",
    "  xi_avg.append([ (j - sum([ j for j in i['data']])/len(i['data']) )**2 for j in i['data'] ])\n",
    "  scIntra = sum([ sum(j) for j in xi_avg ])\n",
    "s2r = scIntra/glIntra"
   ]
  },
  {
   "cell_type": "code",
   "execution_count": 117,
   "metadata": {},
   "outputs": [
    {
     "data": {
      "text/plain": [
       "1.4103531868448558"
      ]
     },
     "execution_count": 117,
     "metadata": {},
     "output_type": "execute_result"
    }
   ],
   "source": [
    "f = s2e/s2r\n",
    "gl = [scEntre, scIntra]\n",
    "criticValue =  stats.f.isf(0.05, scEntre, scIntra)\n",
    "criticValue"
   ]
  }
 ],
 "metadata": {
  "interpreter": {
   "hash": "d998e9f2d5d1a02bcaee89c1920b4684991490c4c804a88a19c1fbc74ca5ffba"
  },
  "kernelspec": {
   "display_name": "Python 3.9.7 ('statistics')",
   "language": "python",
   "name": "python3"
  },
  "language_info": {
   "codemirror_mode": {
    "name": "ipython",
    "version": 3
   },
   "file_extension": ".py",
   "mimetype": "text/x-python",
   "name": "python",
   "nbconvert_exporter": "python",
   "pygments_lexer": "ipython3",
   "version": "3.9.7"
  },
  "orig_nbformat": 4
 },
 "nbformat": 4,
 "nbformat_minor": 2
}
