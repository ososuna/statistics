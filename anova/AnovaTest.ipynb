{
 "cells": [
  {
   "cell_type": "markdown",
   "metadata": {},
   "source": [
    "# One-way anova test"
   ]
  },
  {
   "cell_type": "code",
   "execution_count": 67,
   "metadata": {},
   "outputs": [],
   "source": [
    "from scipy import stats"
   ]
  },
  {
   "cell_type": "code",
   "execution_count": 2,
   "metadata": {},
   "outputs": [],
   "source": [
    "a = [5, 2, 7, 6, 9, 2, 1, 8]\n",
    "b = [6, 5, 8, 6, 2, 2, 1, 9]\n",
    "c = [7, 7, 6, 5, 4, 2, 3, 1]\n",
    "d = [9, 6, 7, 1, 5, 9, 4, 6]\n",
    "e = [8, 10, 8, 4, 6, 6, 9, 9]"
   ]
  },
  {
   "cell_type": "code",
   "execution_count": 7,
   "metadata": {},
   "outputs": [],
   "source": [
    "sumA = sum(a)\n",
    "sumB = sum(b)\n",
    "sumC = sum(c)\n",
    "sumD = sum(d)\n",
    "sumE = sum(e)"
   ]
  },
  {
   "cell_type": "code",
   "execution_count": 9,
   "metadata": {},
   "outputs": [],
   "source": [
    "avgA = sum(a)/len(a)\n",
    "avgB = sum(b)/len(b)\n",
    "avgC = sum(c)/len(c)\n",
    "avgD = sum(d)/len(d)\n",
    "avgE = sum(e)/len(e)"
   ]
  },
  {
   "cell_type": "code",
   "execution_count": 10,
   "metadata": {},
   "outputs": [
    {
     "data": {
      "text/plain": [
       "40"
      ]
     },
     "execution_count": 10,
     "metadata": {},
     "output_type": "execute_result"
    }
   ],
   "source": [
    "n = len(a) + len(b) + len(c) + len(d) + len(e)\n",
    "n"
   ]
  },
  {
   "cell_type": "code",
   "execution_count": 13,
   "metadata": {},
   "outputs": [
    {
     "data": {
      "text/plain": [
       "5.525"
      ]
     },
     "execution_count": 13,
     "metadata": {},
     "output_type": "execute_result"
    }
   ],
   "source": [
    "x_tested = (sum(a) + sum(b) + sum(d) + sum(c) + sum(e)) / n\n",
    "x_tested"
   ]
  },
  {
   "cell_type": "code",
   "execution_count": 28,
   "metadata": {},
   "outputs": [],
   "source": [
    "x_testedA = [ (i-x_tested)**2 for i in a ]\n",
    "x_testedB = [ (i-x_tested)**2 for i in b ]\n",
    "x_testedC = [ (i-x_tested)**2 for i in c ]\n",
    "x_testedD = [ (i-x_tested)**2 for i in d ]\n",
    "x_testedE = [ (i-x_tested)**2 for i in e ]"
   ]
  },
  {
   "cell_type": "code",
   "execution_count": 30,
   "metadata": {},
   "outputs": [],
   "source": [
    "avg_testedA = [ (i-avgA)**2 for i in a ]\n",
    "avg_testedB = [ (i-avgB)**2 for i in b ]\n",
    "avg_testedC = [ (i-avgC)**2 for i in c ]\n",
    "avg_testedD = [ (i-avgD)**2 for i in d ]\n",
    "avg_testedE = [ (i-avgE)**2 for i in e ]"
   ]
  },
  {
   "cell_type": "code",
   "execution_count": 46,
   "metadata": {},
   "outputs": [],
   "source": [
    "gl = n-1\n",
    "scTotal = sum(x_testedA) + sum(x_testedB) + sum(x_testedC) + sum(x_testedD) + sum(x_testedE)"
   ]
  },
  {
   "cell_type": "code",
   "execution_count": 58,
   "metadata": {},
   "outputs": [],
   "source": [
    "# n gruops - 1\n",
    "glEntre = 5-1\n",
    "scEntre = (8*(avgA - x_tested)**2) + (8*(avgB - x_tested)**2) + (8*(avgC - x_tested)**2) + (8*(avgD - x_tested)**2) + (8*(avgE - x_tested)**2)\n",
    "s2e = scEntre/glEntre"
   ]
  },
  {
   "cell_type": "code",
   "execution_count": 61,
   "metadata": {},
   "outputs": [],
   "source": [
    "# n - n groups\n",
    "glIntra = n-5\n",
    "scIntra = sum(avg_testedA) + sum(avg_testedB) + sum(avg_testedC) + sum(avg_testedD) + sum(avg_testedE)\n",
    "s2r = scIntra/glIntra"
   ]
  },
  {
   "cell_type": "code",
   "execution_count": 69,
   "metadata": {},
   "outputs": [
    {
     "data": {
      "text/plain": [
       "1.4103531868448558"
      ]
     },
     "execution_count": 69,
     "metadata": {},
     "output_type": "execute_result"
    }
   ],
   "source": [
    "f = s2e/s2r\n",
    "gl = [scEntre, scIntra]\n",
    "criticValue =  stats.f.isf(0.05, scEntre, scIntra)\n",
    "criticValue"
   ]
  }
 ],
 "metadata": {
  "interpreter": {
   "hash": "d998e9f2d5d1a02bcaee89c1920b4684991490c4c804a88a19c1fbc74ca5ffba"
  },
  "kernelspec": {
   "display_name": "Python 3.9.7 ('statistics')",
   "language": "python",
   "name": "python3"
  },
  "language_info": {
   "codemirror_mode": {
    "name": "ipython",
    "version": 3
   },
   "file_extension": ".py",
   "mimetype": "text/x-python",
   "name": "python",
   "nbconvert_exporter": "python",
   "pygments_lexer": "ipython3",
   "version": "3.9.7"
  },
  "orig_nbformat": 4
 },
 "nbformat": 4,
 "nbformat_minor": 2
}
