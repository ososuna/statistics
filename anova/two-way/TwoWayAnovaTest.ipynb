{
 "cells": [
  {
   "cell_type": "markdown",
   "metadata": {},
   "source": [
    "# Two-way anova test"
   ]
  },
  {
   "cell_type": "code",
   "execution_count": 133,
   "metadata": {},
   "outputs": [],
   "source": [
    "import math\n",
    "import matplotlib.pyplot as plt\n",
    "import numpy as np\n",
    "from scipy import stats\n",
    "import statsmodels.api as sm"
   ]
  },
  {
   "cell_type": "markdown",
   "metadata": {},
   "source": [
    "### 1. Define the null and alternate hypotheses"
   ]
  },
  {
   "cell_type": "markdown",
   "metadata": {},
   "source": [
    "H<sub>0</sub>: <em>no diferences</em> between given data  \n",
    "H<sub>1</sub>: <em>diferences</em> between given data"
   ]
  },
  {
   "cell_type": "markdown",
   "metadata": {},
   "source": [
    "### 2. Define the level of confidence and significance"
   ]
  },
  {
   "cell_type": "markdown",
   "metadata": {},
   "source": [
    "1 - α = 95%  \n",
    "α = 5%"
   ]
  },
  {
   "cell_type": "markdown",
   "metadata": {},
   "source": [
    "### 3. Select the test statistic"
   ]
  },
  {
   "cell_type": "markdown",
   "metadata": {},
   "source": [
    "<em>anova</em>"
   ]
  },
  {
   "cell_type": "markdown",
   "metadata": {},
   "source": [
    "### 4. Calculate the test statistic"
   ]
  },
  {
   "cell_type": "code",
   "execution_count": 98,
   "metadata": {},
   "outputs": [],
   "source": [
    "data = [\n",
    "  # 0\n",
    "  [\n",
    "    {\n",
    "      'id': 'age',\n",
    "      'data': [75, 65, 65, 65, 75]\n",
    "    },\n",
    "    {\n",
    "      'id': 'cpk',\n",
    "      'data': [582, 146, 160, 157, 81]\n",
    "    },\n",
    "    {\n",
    "      'id': 'ejection_fraction',\n",
    "      'data': [20, 20, 20, 65, 38]\n",
    "    },\n",
    "    {\n",
    "      'id': 'serum_sodium',\n",
    "      'data': [130, 136, 129, 137, 116]\n",
    "    }\n",
    "  ],\n",
    "  # 1\n",
    "  [\n",
    "    {\n",
    "      'id': 'age',\n",
    "      'data': [60, 80, 62, 45, 49]\n",
    "    },\n",
    "    {\n",
    "      'id': 'cpk',\n",
    "      'data': [315, 123, 231, 981, 80]\n",
    "    },\n",
    "    {\n",
    "      'id': 'ejection_fraction',\n",
    "      'data': [60, 35, 25, 30, 30]\n",
    "    },\n",
    "    {\n",
    "      'id': 'serum_sodium',\n",
    "      'data': [132, 137, 131, 138, 133]\n",
    "    }\n",
    "  ]\n",
    "]"
   ]
  },
  {
   "cell_type": "code",
   "execution_count": 129,
   "metadata": {},
   "outputs": [],
   "source": [
    "mean_age_0                  = np.mean(data[0][0]['data'])\n",
    "mean_cpk_0                  = np.mean(data[0][1]['data'])\n",
    "mean_ejection_fraction_0    = np.mean(data[0][2]['data'])\n",
    "mean_serum_sodium_0         = np.mean(data[0][3]['data'])\n",
    "\n",
    "std_age_0                   = np.std(data[0][0]['data'])\n",
    "std_cpk_0                   = np.std(data[0][1]['data'])\n",
    "std_ejection_fraction_0     = np.std(data[0][2]['data'])\n",
    "std_serum_sodium_0          = np.std(data[0][3]['data'])\n",
    "\n",
    "var_age_0                   = std_age_0**2\n",
    "var_cpk_0                   = std_cpk_0**2\n",
    "var_ejection_fraction_0     = std_ejection_fraction_0**2\n",
    "var_serum_sodium_0          = std_serum_sodium_0**2\n",
    "\n",
    "mean_age_1                  = np.mean(data[1][0]['data'])\n",
    "mean_cpk_1                  = np.mean(data[1][1]['data'])\n",
    "mean_ejection_fraction_1    = np.mean(data[1][2]['data'])\n",
    "mean_serum_sodium_1         = np.mean(data[1][3]['data'])\n",
    "\n",
    "std_age_1                   = np.std(data[1][0]['data'])\n",
    "std_cpk_1                   = np.std(data[1][1]['data'])\n",
    "std_ejection_fraction_1     = np.std(data[1][2]['data'])\n",
    "std_serum_sodium_1          = np.std(data[1][3]['data'])\n",
    "\n",
    "var_age_1                   = std_age_1**2\n",
    "var_cpk_1                   = std_cpk_1**2\n",
    "var_ejection_fraction_1     = std_ejection_fraction_1**2\n",
    "var_serum_sodium_1          = std_serum_sodium_1**2"
   ]
  },
  {
   "cell_type": "code",
   "execution_count": 138,
   "metadata": {},
   "outputs": [],
   "source": [
    "n = len(data[0][0]['data'])\n",
    "s = 1513\n",
    "N = len(data[0][0]['data'])*len(data[0])*2\n",
    "ni = 20\n",
    "nj = 10"
   ]
  },
  {
   "cell_type": "code",
   "execution_count": 150,
   "metadata": {},
   "outputs": [],
   "source": [
    "total   = []\n",
    "total_0 = []\n",
    "total_1 = []\n",
    "for i in data:\n",
    "  for j in i:\n",
    "    if(data.index(i) == 0):\n",
    "      total_0.extend(j['data'])\n",
    "    elif(data.index(i) == 1):\n",
    "      total_1.extend(j['data'])\n",
    "    total.extend(j['data'])\n",
    "y = np.mean(total)\n",
    "y_0 = np.mean(total_0)\n",
    "y_1 = np.mean(total_1)"
   ]
  },
  {
   "cell_type": "code",
   "execution_count": null,
   "metadata": {},
   "outputs": [],
   "source": []
  }
 ],
 "metadata": {
  "interpreter": {
   "hash": "d998e9f2d5d1a02bcaee89c1920b4684991490c4c804a88a19c1fbc74ca5ffba"
  },
  "kernelspec": {
   "display_name": "Python 3.9.7 ('statistics')",
   "language": "python",
   "name": "python3"
  },
  "language_info": {
   "codemirror_mode": {
    "name": "ipython",
    "version": 3
   },
   "file_extension": ".py",
   "mimetype": "text/x-python",
   "name": "python",
   "nbconvert_exporter": "python",
   "pygments_lexer": "ipython3",
   "version": "3.9.7"
  },
  "orig_nbformat": 4
 },
 "nbformat": 4,
 "nbformat_minor": 2
}
