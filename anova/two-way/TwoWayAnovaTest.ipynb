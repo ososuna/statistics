{
 "cells": [
  {
   "cell_type": "markdown",
   "metadata": {},
   "source": [
    "# Two-way anova test"
   ]
  },
  {
   "cell_type": "code",
   "execution_count": 133,
   "metadata": {},
   "outputs": [],
   "source": [
    "import math\n",
    "import matplotlib.pyplot as plt\n",
    "import numpy as np\n",
    "from scipy import stats\n",
    "import statsmodels.api as sm"
   ]
  },
  {
   "cell_type": "markdown",
   "metadata": {},
   "source": [
    "### 1. Define the null and alternate hypotheses"
   ]
  },
  {
   "cell_type": "markdown",
   "metadata": {},
   "source": [
    "H<sub>0</sub>: <em>no diferences</em> between given data  \n",
    "H<sub>1</sub>: <em>diferences</em> between given data"
   ]
  },
  {
   "cell_type": "markdown",
   "metadata": {},
   "source": [
    "### 2. Define the level of confidence and significance"
   ]
  },
  {
   "cell_type": "markdown",
   "metadata": {},
   "source": [
    "1 - α = 90%  \n",
    "α = 10%"
   ]
  },
  {
   "cell_type": "markdown",
   "metadata": {},
   "source": [
    "### 3. Select the test statistic"
   ]
  },
  {
   "cell_type": "markdown",
   "metadata": {},
   "source": [
    "<em>anova</em>"
   ]
  },
  {
   "cell_type": "markdown",
   "metadata": {},
   "source": [
    "### 4. Calculate the test statistic"
   ]
  },
  {
   "cell_type": "code",
   "execution_count": 98,
   "metadata": {},
   "outputs": [],
   "source": [
    "data = [\n",
    "  # 0\n",
    "  [\n",
    "    {\n",
    "      'id': 'age',\n",
    "      'data': [75, 65, 65, 65, 75]\n",
    "    },\n",
    "    {\n",
    "      'id': 'cpk',\n",
    "      'data': [582, 146, 160, 157, 81]\n",
    "    },\n",
    "    {\n",
    "      'id': 'ejection_fraction',\n",
    "      'data': [20, 20, 20, 65, 38]\n",
    "    },\n",
    "    {\n",
    "      'id': 'serum_sodium',\n",
    "      'data': [130, 136, 129, 137, 116]\n",
    "    }\n",
    "  ],\n",
    "  # 1\n",
    "  [\n",
    "    {\n",
    "      'id': 'age',\n",
    "      'data': [60, 80, 62, 45, 49]\n",
    "    },\n",
    "    {\n",
    "      'id': 'cpk',\n",
    "      'data': [315, 123, 231, 981, 80]\n",
    "    },\n",
    "    {\n",
    "      'id': 'ejection_fraction',\n",
    "      'data': [60, 35, 25, 30, 30]\n",
    "    },\n",
    "    {\n",
    "      'id': 'serum_sodium',\n",
    "      'data': [132, 137, 131, 138, 133]\n",
    "    }\n",
    "  ]\n",
    "]"
   ]
  },
  {
   "cell_type": "code",
   "execution_count": 129,
   "metadata": {},
   "outputs": [],
   "source": [
    "mean_age_0                  = np.mean(data[0][0]['data'])\n",
    "mean_cpk_0                  = np.mean(data[0][1]['data'])\n",
    "mean_ejection_fraction_0    = np.mean(data[0][2]['data'])\n",
    "mean_serum_sodium_0         = np.mean(data[0][3]['data'])\n",
    "\n",
    "std_age_0                   = np.std(data[0][0]['data'])\n",
    "std_cpk_0                   = np.std(data[0][1]['data'])\n",
    "std_ejection_fraction_0     = np.std(data[0][2]['data'])\n",
    "std_serum_sodium_0          = np.std(data[0][3]['data'])\n",
    "\n",
    "var_age_0                   = std_age_0**2\n",
    "var_cpk_0                   = std_cpk_0**2\n",
    "var_ejection_fraction_0     = std_ejection_fraction_0**2\n",
    "var_serum_sodium_0          = std_serum_sodium_0**2\n",
    "\n",
    "mean_age_1                  = np.mean(data[1][0]['data'])\n",
    "mean_cpk_1                  = np.mean(data[1][1]['data'])\n",
    "mean_ejection_fraction_1    = np.mean(data[1][2]['data'])\n",
    "mean_serum_sodium_1         = np.mean(data[1][3]['data'])\n",
    "\n",
    "std_age_1                   = np.std(data[1][0]['data'])\n",
    "std_cpk_1                   = np.std(data[1][1]['data'])\n",
    "std_ejection_fraction_1     = np.std(data[1][2]['data'])\n",
    "std_serum_sodium_1          = np.std(data[1][3]['data'])\n",
    "\n",
    "var_age_1                   = std_age_1**2\n",
    "var_cpk_1                   = std_cpk_1**2\n",
    "var_ejection_fraction_1     = std_ejection_fraction_1**2\n",
    "var_serum_sodium_1          = std_serum_sodium_1**2"
   ]
  },
  {
   "cell_type": "code",
   "execution_count": 176,
   "metadata": {},
   "outputs": [],
   "source": [
    "n = len(data[0][0]['data'])\n",
    "N = len(data[0][0]['data'])*len(data[0])*2\n",
    "ni = 20\n",
    "nj = 10"
   ]
  },
  {
   "cell_type": "code",
   "execution_count": 157,
   "metadata": {},
   "outputs": [],
   "source": [
    "total   = []\n",
    "total_0 = []\n",
    "total_1 = []\n",
    "\n",
    "for i in data:\n",
    "  for j in i:\n",
    "    if(data.index(i) == 0):\n",
    "      total_0.extend(j['data'])\n",
    "    elif(data.index(i) == 1):\n",
    "      total_1.extend(j['data'])\n",
    "    total.extend(j['data'])\n",
    "\n",
    "y = np.mean(total)\n",
    "y_0 = np.mean(total_0)\n",
    "y_1 = np.mean(total_1)\n",
    "\n",
    "mean_age_0_1                = np.mean([mean_age_0, mean_age_1])\n",
    "mean_cpk_0_1                = np.mean([mean_cpk_0, mean_cpk_1])\n",
    "mean_ejection_fraction_0_1  = np.mean([mean_ejection_fraction_0, mean_ejection_fraction_1])\n",
    "mean_serum_sodium_0_1       = np.mean([mean_serum_sodium_0, mean_serum_sodium_1])"
   ]
  },
  {
   "cell_type": "code",
   "execution_count": 158,
   "metadata": {},
   "outputs": [],
   "source": [
    "a = 0.1"
   ]
  },
  {
   "cell_type": "code",
   "execution_count": 171,
   "metadata": {},
   "outputs": [],
   "source": [
    "ssa = ni*((y_0 - y)**2 + (y_1 - y)**2)\n",
    "ssb = nj*((mean_age_0_1-y)**2 + (mean_cpk_0_1-y)**2 + (mean_ejection_fraction_0_1-y)**2 + (mean_serum_sodium_0_1-y)**2)\n",
    "ssab = N*(ssa+ssb)\n",
    "\n",
    "sse = (n-1)*(\n",
    "  var_age_0 + var_cpk_0 + var_ejection_fraction_0 + var_serum_sodium_0 +\n",
    "  var_age_1 + var_cpk_1 + var_ejection_fraction_1 + var_serum_sodium_1\n",
    ")\n",
    "\n",
    "sst = ssa + ssb + ssab + sse"
   ]
  },
  {
   "cell_type": "code",
   "execution_count": 182,
   "metadata": {},
   "outputs": [],
   "source": [
    "lg_a = len(data)-1\n",
    "lg_b = len(data[0])-1\n",
    "lg_a_b = lg_a*lg_b\n",
    "lg_t = N-1\n",
    "lg_e = lg_t - lg_a - lg_b - lg_a_b"
   ]
  },
  {
   "cell_type": "code",
   "execution_count": 191,
   "metadata": {},
   "outputs": [],
   "source": [
    "msa = ssa/lg_a\n",
    "msb = ssb/lg_b\n",
    "msab = ssab/lg_a_b\n",
    "mse = sse/lg_e"
   ]
  },
  {
   "cell_type": "code",
   "execution_count": 208,
   "metadata": {},
   "outputs": [],
   "source": [
    "fa = msa/mse\n",
    "fa_critical = stats.f.isf(a, lg_a, lg_e)\n",
    "\n",
    "fb = msb/mse\n",
    "fb_critical = stats.f.isf(a, lg_b, lg_e)\n",
    "\n",
    "fab = msab/mse\n",
    "fab_critical = stats.f.isf(a, lg_a_b, lg_e)"
   ]
  },
  {
   "cell_type": "markdown",
   "metadata": {},
   "source": [
    "### 5. Acceptance and rejection region"
   ]
  },
  {
   "cell_type": "code",
   "execution_count": 211,
   "metadata": {},
   "outputs": [
    {
     "data": {
      "image/png": "[encoded data removed]",
      "text/plain": [
       "<Figure size 432x288 with 1 Axes>"
      ]
     },
     "metadata": {
      "needs_background": "light"
     },
     "output_type": "display_data"
    }
   ],
   "source": [
    "mu = 0\n",
    "variance = 1\n",
    "sigma = math.sqrt(variance)\n",
    "x = np.linspace(mu - 3*sigma, mu + 3*sigma, 100)\n",
    "plt.axvline(x=fa, color=\"blue\")\n",
    "plt.axvline(x=fa_critical, color=\"red\")\n",
    "plt.axvline(x=mu, color=\"green\")\n",
    "plt.legend([\"F(a)\", \"critical value\", \"µ\"])\n",
    "plt.plot(x, stats.norm.pdf(x, mu, sigma))\n",
    "plt.show()"
   ]
  },
  {
   "cell_type": "code",
   "execution_count": 212,
   "metadata": {},
   "outputs": [
    {
     "data": {
      "image/png": "[encoded data removed]",
      "text/plain": [
       "<Figure size 432x288 with 1 Axes>"
      ]
     },
     "metadata": {
      "needs_background": "light"
     },
     "output_type": "display_data"
    }
   ],
   "source": [
    "mu = 0\n",
    "variance = 1\n",
    "sigma = math.sqrt(variance)\n",
    "x = np.linspace(mu - 3*sigma, mu + 3*sigma, 100)\n",
    "plt.axvline(x=fb, color=\"blue\")\n",
    "plt.axvline(x=fb_critical, color=\"red\")\n",
    "plt.axvline(x=mu, color=\"green\")\n",
    "plt.legend([\"F(b)\", \"critical value\", \"µ\"])\n",
    "plt.plot(x, stats.norm.pdf(x, mu, sigma))\n",
    "plt.show()"
   ]
  },
  {
   "cell_type": "code",
   "execution_count": 213,
   "metadata": {},
   "outputs": [
    {
     "data": {
      "image/png": "[encoded data removed]",
      "text/plain": [
       "<Figure size 432x288 with 1 Axes>"
      ]
     },
     "metadata": {
      "needs_background": "light"
     },
     "output_type": "display_data"
    }
   ],
   "source": [
    "mu = 0\n",
    "variance = 1\n",
    "sigma = math.sqrt(variance)\n",
    "x = np.linspace(mu - 3*sigma, mu + 3*sigma, 100)\n",
    "plt.axvline(x=fab, color=\"blue\")\n",
    "plt.axvline(x=fab_critical, color=\"red\")\n",
    "plt.axvline(x=mu, color=\"green\")\n",
    "plt.legend([\"F(a,b)\", \"critical value\", \"µ\"])\n",
    "plt.plot(x, stats.norm.pdf(x, mu, sigma))\n",
    "plt.show()"
   ]
  },
  {
   "cell_type": "markdown",
   "metadata": {},
   "source": [
    "### 6. Set decision rule"
   ]
  },
  {
   "cell_type": "code",
   "execution_count": 209,
   "metadata": {},
   "outputs": [
    {
     "name": "stdout",
     "output_type": "stream",
     "text": [
      "0.5023891600589655\n",
      "2.869259091900936\n",
      "Accept H0 because F(a) = 0.50 < 2.87\n",
      "\n",
      "7.135516386474409\n",
      "2.263452515114021\n",
      "Reject H0 because F(b) = 7.14 > 2.26\n",
      "\n",
      "292.11917759309586\n",
      "2.263452515114021\n",
      "Reject H0 because F(a,b) = 292.12 > 2.26\n"
     ]
    }
   ],
   "source": [
    "print(fa)\n",
    "print(fa_critical)\n",
    "print(f'Accept H0 because F(a) = {fa:.2f} < {fa_critical:.2f}')\n",
    "\n",
    "print()\n",
    "\n",
    "print(fb)\n",
    "print(fb_critical)\n",
    "print(f'Reject H0 because F(b) = {fb:.2f} > {fb_critical:.2f}')\n",
    "\n",
    "print()\n",
    "\n",
    "print(fab)\n",
    "print(fab_critical)\n",
    "print(f'Reject H0 because F(a,b) = {fab:.2f} > {fab_critical:.2f}')"
   ]
  },
  {
   "cell_type": "markdown",
   "metadata": {},
   "source": [
    "### 7. Draw conclusions"
   ]
  },
  {
   "cell_type": "code",
   "execution_count": 210,
   "metadata": {},
   "outputs": [
    {
     "name": "stdout",
     "output_type": "stream",
     "text": [
      "Con un nivel de significancia del 90% se puede concluir que si el paciente tiene diabtes, NO influye en sus resultados.\n",
      "Con un nivel de significancia del 90% se puede concluir que si el paciente tiene síntomas influye en sus resultados.\n",
      "Con un nivel de significancia del 90% se puede concluir que que la combinacion de factores influye en sus resultados.\n"
     ]
    }
   ],
   "source": [
    "print('Con un nivel de significancia del 90% se puede concluir que si el paciente tiene diabtes, NO influye en sus resultados.')\n",
    "print('Con un nivel de significancia del 90% se puede concluir que si el paciente tiene síntomas influye en sus resultados.')\n",
    "print('Con un nivel de significancia del 90% se puede concluir que que la combinacion de factores influye en sus resultados.')"
   ]
  }
 ],
 "metadata": {
  "interpreter": {
   "hash": "d998e9f2d5d1a02bcaee89c1920b4684991490c4c804a88a19c1fbc74ca5ffba"
  },
  "kernelspec": {
   "display_name": "Python 3.9.7 ('statistics')",
   "language": "python",
   "name": "python3"
  },
  "language_info": {
   "codemirror_mode": {
    "name": "ipython",
    "version": 3
   },
   "file_extension": ".py",
   "mimetype": "text/x-python",
   "name": "python",
   "nbconvert_exporter": "python",
   "pygments_lexer": "ipython3",
   "version": "3.9.7"
  },
  "orig_nbformat": 4
 },
 "nbformat": 4,
 "nbformat_minor": 2
}
